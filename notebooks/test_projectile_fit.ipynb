{
 "cells": [
  {
   "cell_type": "code",
   "execution_count": 24,
   "id": "69ab370a-1bed-4084-9e7f-6ef31922a7d5",
   "metadata": {},
   "outputs": [],
   "source": [
    "import os\n",
    "from sympy import symbols, sympify\n",
    "from sympy.utilities.lambdify import lambdify\n",
    "from scipy.optimize import curve_fit"
   ]
  },
  {
   "cell_type": "code",
   "execution_count": 22,
   "id": "8c490fe2-6632-4cbe-80a1-8277f58ca3f5",
   "metadata": {},
   "outputs": [],
   "source": [
    "# cd llm-physics-discovery/"
   ]
  },
  {
   "cell_type": "code",
   "execution_count": 6,
   "id": "4841e60b-c057-42c9-8b22-4291cd9ef15b",
   "metadata": {},
   "outputs": [],
   "source": [
    "from src.simulate import projectile"
   ]
  },
  {
   "cell_type": "code",
   "execution_count": 27,
   "id": "3d5c58de-aec5-4c73-9477-18dc657b5853",
   "metadata": {},
   "outputs": [],
   "source": [
    "# Generate the *full* noisy dataset for fitting\n",
    "t, y, meta = projectile(v0=20, theta_deg=45, noise=0.05, num_points=200, seed=0)"
   ]
  },
  {
   "cell_type": "code",
   "execution_count": 15,
   "id": "5479c007-fd73-49a6-952b-24ce32a65309",
   "metadata": {},
   "outputs": [
    {
     "name": "stdout",
     "output_type": "stream",
     "text": [
      "formula_text:  y = h0 + v0 * t - (1/2) * g * t**2 + A * sin(B * t)\n",
      "\n"
     ]
    }
   ],
   "source": [
    "with open(\"/mmfs1/home/oreoluwa.alade/llm-physics-discovery/responses/projectile_formula.txt\") as f:\n",
    "    formula_text = f.read()\n",
    "    \n",
    "print(\"formula_text: \", formula_text)"
   ]
  },
  {
   "cell_type": "code",
   "execution_count": 17,
   "id": "49019a5f-8c61-4fde-ac7d-2b54fe11fa46",
   "metadata": {},
   "outputs": [
    {
     "name": "stdout",
     "output_type": "stream",
     "text": [
      "Parsed Sympy expr: A*sin(B*t) - g*t**2/2 + h0 + t*v0\n"
     ]
    }
   ],
   "source": [
    "def extract_rhs(expr_str):\n",
    "    if \"=\" in expr_str:\n",
    "        return expr_str.split(\"=\", 1)[1].strip()\n",
    "    return expr_str.strip()\n",
    "\n",
    "rhs_str = extract_rhs(formula_text)\n",
    "\n",
    "t_sym = symbols(\"t\")\n",
    "expr = sympify(rhs_str)\n",
    "\n",
    "print(\"Parsed Sympy expr:\", expr)"
   ]
  },
  {
   "cell_type": "code",
   "execution_count": 18,
   "id": "df022e98-5fe9-40a3-9216-a5a47adb66d6",
   "metadata": {},
   "outputs": [
    {
     "name": "stdout",
     "output_type": "stream",
     "text": [
      "Free parameters to fit:  [B, A, v0, h0, g]\n"
     ]
    }
   ],
   "source": [
    "# collect all free symbols except the dependent variable t\n",
    "free_syms = [s for s in expr.free_symbols if s != t_sym]\n",
    "print(\"Free parameters to fit: \", free_syms)"
   ]
  },
  {
   "cell_type": "code",
   "execution_count": 23,
   "id": "f843d703-1078-44c2-aa42-c1b685de0e92",
   "metadata": {},
   "outputs": [
    {
     "name": "stdout",
     "output_type": "stream",
     "text": [
      "Initial guesses: [1.0, 1.0, 1.0, 1.0, 1.0]\n"
     ]
    }
   ],
   "source": [
    "# lambdify into numpy function\n",
    "f_np = lambdify((t_sym, *free_syms), expr, modules=\"numpy\")\n",
    "\n",
    "def model_wrapper(t_vals, *theta):\n",
    "    return f_np(t_vals, *theta)\n",
    "\n",
    "# crude initial guesses: 1.0 for each param\n",
    "p0 = [1.0] * len(free_syms)\n",
    "print(\"Initial guesses:\", p0)"
   ]
  },
  {
   "cell_type": "code",
   "execution_count": 28,
   "id": "50b78c03-f2cf-48a0-a400-5baf60537d0c",
   "metadata": {},
   "outputs": [
    {
     "name": "stdout",
     "output_type": "stream",
     "text": [
      "Optimal parameters: {'B': 0.8527785575324044, 'A': -0.7483796880172721, 'v0': 15.019957770226801, 'h0': -0.044383318073662005, 'g': 10.2994102219568}\n"
     ]
    }
   ],
   "source": [
    "# curve fitting \n",
    "popt, pcov = curve_fit(model_wrapper, t, y, p0=p0, maxfev=10000)\n",
    "print(\"Optimal parameters:\", dict(zip([s.name for s in free_syms], popt)))"
   ]
  },
  {
   "cell_type": "markdown",
   "id": "0e904015-5dd7-496f-bebe-f4bd4d9c1055",
   "metadata": {},
   "source": [
    "### Comparing GPT’s Fitted Formula with Ground Truth\n",
    "\n",
    "At this stage, we have two important things:\n",
    "\n",
    "1.  **Ground truth parameters** – the ones I originally used to simulate the projectile motion:\n",
    "    - $v_0 = 20.0 \\, \\text{m/s}$\n",
    "    - $g = 9.81 \\, \\text{m/s}^2$\n",
    "    - $h_0 = 0.0$\n",
    "\n",
    "    These represent the \"real\" physics that generated the noisy dataset.\n",
    "\n",
    "2.  **GPT + curve fitting parameters** – the ones obtained by taking GPT’s guessed symbolic formula and fitting it to the noisy data:\n",
    "    - Example: $v_0 \\approx 15.0$, $g \\approx 10.3$, plus extra terms $A, B$ introduced by GPT.\n",
    "\n",
    "The comparison highlights an important idea:\n",
    "- GPT does not always produce the **exact** physical law.\n",
    "- However, by fitting GPT’s guess to real data, we can test how **close** its symbolic hypothesis is to the truth.\n",
    "- This is the crux of the project: **using LLMs to propose symbolic laws, then validating them against data.**"
   ]
  },
  {
   "cell_type": "code",
   "execution_count": null,
   "id": "c3381646-1636-411c-b7c1-0d5fae0356d5",
   "metadata": {},
   "outputs": [],
   "source": []
  }
 ],
 "metadata": {
  "kernelspec": {
   "display_name": "Python 3 (ipykernel)",
   "language": "python",
   "name": "python3"
  },
  "language_info": {
   "codemirror_mode": {
    "name": "ipython",
    "version": 3
   },
   "file_extension": ".py",
   "mimetype": "text/x-python",
   "name": "python",
   "nbconvert_exporter": "python",
   "pygments_lexer": "ipython3",
   "version": "3.9.12"
  }
 },
 "nbformat": 4,
 "nbformat_minor": 5
}
